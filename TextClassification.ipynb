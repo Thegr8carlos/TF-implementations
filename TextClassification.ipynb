{
  "nbformat": 4,
  "nbformat_minor": 0,
  "metadata": {
    "colab": {
      "provenance": [],
      "gpuType": "T4"
    },
    "kernelspec": {
      "name": "python3",
      "display_name": "Python 3"
    },
    "language_info": {
      "name": "python"
    },
    "accelerator": "GPU"
  },
  "cells": [
    {
      "cell_type": "markdown",
      "source": [
        " # Loading the dataset\n",
        " A dataset has been prepared for you to use containing the body of several thousand programming questions (for example, \"How can I sort a dictionary by value in Python?\") posted to Stack Overflow. Each of these is labeled with exactly one tag (either Python, CSharp, JavaScript, or Java). Your task is to take a question as input, and predict the appropriate tag, in this case, Python.\n",
        "\n",
        " To increase the difficulty of the classification problem, occurrences of the words Python, CSharp, JavaScript, or Java in the programming questions have been replaced with the word blank (as many questions contain the language they're about).\n",
        "\n",
        " ## Dataset Link https://storage.googleapis.com/download.tensorflow.org/data/stack_overflow_16k.tar.gz"
      ],
      "metadata": {
        "id": "ySLY-OASgcYM"
      }
    },
    {
      "cell_type": "code",
      "source": [
        "!pip install wget"
      ],
      "metadata": {
        "colab": {
          "base_uri": "https://localhost:8080/"
        },
        "id": "mwFfGMOWi8CQ",
        "outputId": "ad6b43ba-2e94-45d7-dad5-70c4d2171185"
      },
      "execution_count": null,
      "outputs": [
        {
          "output_type": "stream",
          "name": "stdout",
          "text": [
            "Collecting wget\n",
            "  Downloading wget-3.2.zip (10 kB)\n",
            "  Preparing metadata (setup.py) ... \u001b[?25l\u001b[?25hdone\n",
            "Building wheels for collected packages: wget\n",
            "  Building wheel for wget (setup.py) ... \u001b[?25l\u001b[?25hdone\n",
            "  Created wheel for wget: filename=wget-3.2-py3-none-any.whl size=9656 sha256=51575db941011852ac5b4fc7fbc1d761281e9835bd4f9e987ec60637abcbe3b3\n",
            "  Stored in directory: /root/.cache/pip/wheels/8b/f1/7f/5c94f0a7a505ca1c81cd1d9208ae2064675d97582078e6c769\n",
            "Successfully built wget\n",
            "Installing collected packages: wget\n",
            "Successfully installed wget-3.2\n"
          ]
        }
      ]
    },
    {
      "cell_type": "markdown",
      "source": [
        "# Run this block if you want to download the dataset using wget and tarfile to unzip"
      ],
      "metadata": {
        "id": "Wxecpauai-2X"
      }
    },
    {
      "cell_type": "code",
      "execution_count": null,
      "metadata": {
        "id": "a_6sd8q3gYqh"
      },
      "outputs": [],
      "source": [
        "import os\n",
        "import tarfile\n",
        "import wget\n",
        "\n",
        "url = 'https://storage.googleapis.com/download.tensorflow.org/data/stack_overflow_16k.tar.gz'\n",
        "file_path = wget.download(url)\n",
        "\n",
        "if file_path.endswith(\"tar.gz\"):\n",
        "    tar = tarfile.open(file_path, \"r:gz\")\n",
        "    tar.extractall()\n",
        "    tar.close()\n",
        "elif file_path.endswith(\"tar\"):\n",
        "    tar = tarfile.open(file_path, \"r:\")\n",
        "    tar.extractall()\n",
        "    tar.close()\n",
        "\n",
        "os.listdir('.')\n",
        "os.remove(\"stack_overflow_16k.tar.gz\")"
      ]
    },
    {
      "cell_type": "markdown",
      "source": [
        "# getting the train/validatio and test into tensorFlow representation"
      ],
      "metadata": {
        "id": "aoCqWCNrkh4m"
      }
    },
    {
      "cell_type": "code",
      "source": [
        "import tensorflow as tf"
      ],
      "metadata": {
        "id": "d5N3qxyhm431"
      },
      "execution_count": null,
      "outputs": []
    },
    {
      "cell_type": "code",
      "source": [
        "batch_size = 32 # the ML model will be using 32 examples of the dataset in each iteration\n",
        "seed = 42 # random seed to the validation set\n",
        "print(\"Train dataset\")\n",
        "raw_train_ds = tf.keras.utils.text_dataset_from_directory(\n",
        "    'train',\n",
        "    batch_size=batch_size,\n",
        "    validation_split=0.2,\n",
        "    subset='training',\n",
        "    seed=seed)\n",
        "print(\"Validation dataset\")\n",
        "raw_val_ds = tf.keras.utils.text_dataset_from_directory(\n",
        "    'train',\n",
        "    batch_size=batch_size,\n",
        "    validation_split=0.2,\n",
        "    subset='validation',\n",
        "    seed=seed)\n",
        "print(\"test dataset\")\n",
        "raw_test_ds = tf.keras.utils.text_dataset_from_directory(\n",
        "    'test',\n",
        "    batch_size=batch_size)"
      ],
      "metadata": {
        "colab": {
          "base_uri": "https://localhost:8080/"
        },
        "id": "T3mjSPV6ju2P",
        "outputId": "340b91e7-b8ad-4fc3-881e-8b25b5d4c1ae"
      },
      "execution_count": null,
      "outputs": [
        {
          "output_type": "stream",
          "name": "stdout",
          "text": [
            "Train dataset\n",
            "Found 8000 files belonging to 4 classes.\n",
            "Using 6400 files for training.\n",
            "Validation dataset\n",
            "Found 8000 files belonging to 4 classes.\n",
            "Using 1600 files for validation.\n",
            "test dataset\n",
            "Found 8000 files belonging to 4 classes.\n"
          ]
        }
      ]
    },
    {
      "cell_type": "code",
      "source": [
        "total_batches = raw_train_ds.cardinality().numpy() # number of batches generated\n",
        "print(f\"Total batches in the training dataset: {total_batches}\")"
      ],
      "metadata": {
        "colab": {
          "base_uri": "https://localhost:8080/"
        },
        "id": "ULaSas-4oSYM",
        "outputId": "0c2430cd-234b-4075-9593-4dc660f73b11"
      },
      "execution_count": null,
      "outputs": [
        {
          "output_type": "stream",
          "name": "stdout",
          "text": [
            "Total batches in the training dataset: 200\n"
          ]
        }
      ]
    },
    {
      "cell_type": "markdown",
      "source": [
        "Each batch contains 32 examples of the dataset"
      ],
      "metadata": {
        "id": "KSDMyOIQxYGi"
      }
    },
    {
      "cell_type": "markdown",
      "source": [
        "# Showing some examples of the dataset\n",
        "the function tf.keras.utils.text_from_directory asigns the label if it isnt declared in a alfabethic order"
      ],
      "metadata": {
        "id": "oTOw3HdmxkLq"
      }
    },
    {
      "cell_type": "code",
      "source": [
        "for text_batch, label_batch in raw_train_ds.take(1):\n",
        "  for i in range(3):\n",
        "    print(\"Question\", text_batch.numpy()[i])\n",
        "    print(\"Label\", raw_train_ds.class_names[label_batch.numpy()[i]]) # function of the tf.Data class"
      ],
      "metadata": {
        "colab": {
          "base_uri": "https://localhost:8080/"
        },
        "id": "7rm58JmLwwDL",
        "outputId": "702788ef-4311-4e6f-b205-94e173cc66b3"
      },
      "execution_count": null,
      "outputs": [
        {
          "output_type": "stream",
          "name": "stdout",
          "text": [
            "Question b'\"my tester is going to the wrong constructor i am new to programming so if i ask a question that can be easily fixed, please forgive me. my program has a tester class with a main. when i send that to my regularpolygon class, it sends it to the wrong constructor. i have two constructors. 1 without perameters..public regularpolygon().    {.       mynumsides = 5;.       mysidelength = 30;.    }//end default constructor...and my second, with perameters. ..public regularpolygon(int numsides, double sidelength).    {.        mynumsides = numsides;.        mysidelength = sidelength;.    }// end constructor...in my tester class i have these two lines:..regularpolygon shape = new regularpolygon(numsides, sidelength);.        shape.menu();...numsides and sidelength were declared and initialized earlier in the testing class...so what i want to happen, is the tester class sends numsides and sidelength to the second constructor and use it in that class. but it only uses the default constructor, which therefor ruins the whole rest of the program. can somebody help me?..for those of you who want to see more of my code: here you go..public double vertexangle().    {.        system.out.println(\"\"the vertex angle method: \"\" + mynumsides);// prints out 5.        system.out.println(\"\"the vertex angle method: \"\" + mysidelength); // prints out 30..        double vertexangle;.        vertexangle = ((mynumsides - 2.0) / mynumsides) * 180.0;.        return vertexangle;.    }//end method vertexangle..public void menu().{.    system.out.println(mynumsides); // prints out what the user puts in.    system.out.println(mysidelength); // prints out what the user puts in.    gotographic();.    calcr(mynumsides, mysidelength);.    calcr(mynumsides, mysidelength);.    print(); .}// end menu...this is my entire tester class:..public static void main(string[] arg).{.    int numsides;.    double sidelength;.    scanner keyboard = new scanner(system.in);..    system.out.println(\"\"welcome to the regular polygon program!\"\");.    system.out.println();..    system.out.print(\"\"enter the number of sides of the polygon ==&gt; \"\");.    numsides = keyboard.nextint();.    system.out.println();..    system.out.print(\"\"enter the side length of each side ==&gt; \"\");.    sidelength = keyboard.nextdouble();.    system.out.println();..    regularpolygon shape = new regularpolygon(numsides, sidelength);.    shape.menu();.}//end main...for testing it i sent it numsides 4 and sidelength 100.\"\\n'\n",
            "Label java\n",
            "Question b'\"blank code slow skin detection this code changes the color space to lab and using a threshold finds the skin area of an image. but it\\'s ridiculously slow. i don\\'t know how to make it faster ?    ..from colormath.color_objects import *..def skindetection(img, treshold=80, color=[255,20,147]):..    print img.shape.    res=img.copy().    for x in range(img.shape[0]):.        for y in range(img.shape[1]):.            rgbimg=rgbcolor(img[x,y,0],img[x,y,1],img[x,y,2]).            labimg=rgbimg.convert_to(\\'lab\\', debug=false).            if (labimg.lab_l &gt; treshold):.                res[x,y,:]=color.            else: .                res[x,y,:]=img[x,y,:]..    return res\"\\n'\n",
            "Label python\n",
            "Question b'\"option and validation in blank i want to add a new option on my system where i want to add two text files, both rental.txt and customer.txt. inside each text are id numbers of the customer, the videotape they need and the price...i want to place it as an option on my code. right now i have:...add customer.rent return.view list.search.exit...i want to add this as my sixth option. say for example i ordered a video, it would display the price and would let me confirm the price and if i am going to buy it or not...here is my current code:..  import blank.io.*;.    import blank.util.arraylist;.    import static blank.lang.system.out;..    public class rentalsystem{.    static bufferedreader input = new bufferedreader(new inputstreamreader(system.in));.    static file file = new file(\"\"file.txt\"\");.    static arraylist&lt;string&gt; list = new arraylist&lt;string&gt;();.    static int rows;..    public static void main(string[] args) throws exception{.        introduction();.        system.out.print(\"\"nn\"\");.        login();.        system.out.print(\"\"nnnnnnnnnnnnnnnnnnnnnn\"\");.        introduction();.        string repeat;.        do{.            loadfile();.            system.out.print(\"\"nwhat do you want to do?nn\"\");.            system.out.print(\"\"n                    - - - - - - - - - - - - - - - - - - - - - - -\"\");.            system.out.print(\"\"nn                    |     1. add customer    |   2. rent return |n\"\");.            system.out.print(\"\"n                    - - - - - - - - - - - - - - - - - - - - - - -\"\");.            system.out.print(\"\"nn                    |     3. view list       |   4. search      |n\"\");.            system.out.print(\"\"n                    - - - - - - - - - - - - - - - - - - - - - - -\"\");.            system.out.print(\"\"nn                                             |   5. exit        |n\"\");.            system.out.print(\"\"n                                              - - - - - - - - - -\"\");.            system.out.print(\"\"nnchoice:\"\");.            int choice = integer.parseint(input.readline());.            switch(choice){.                case 1:.                    writedata();.                    break;.                case 2:.                    rentdata();.                    break;.                case 3:.                    viewlist();.                    break;.                case 4:.                    search();.                    break;.                case 5:.                    system.out.println(\"\"goodbye!\"\");.                    system.exit(0);.                default:.                    system.out.print(\"\"invalid choice: \"\");.                    break;.            }.            system.out.print(\"\"ndo another task? [y/n] \"\");.            repeat = input.readline();.        }while(repeat.equals(\"\"y\"\"));..        if(repeat!=\"\"y\"\") system.out.println(\"\"ngoodbye!\"\");..    }..    public static void writedata() throws exception{.        system.out.print(\"\"nname: \"\");.        string cname = input.readline();.        system.out.print(\"\"address: \"\");.        string add = input.readline();.        system.out.print(\"\"phone no.: \"\");.        string pno = input.readline();.        system.out.print(\"\"rental amount: \"\");.        string ramount = input.readline();.        system.out.print(\"\"tapenumber: \"\");.        string tno = input.readline();.        system.out.print(\"\"title: \"\");.        string title = input.readline();.        system.out.print(\"\"date borrowed: \"\");.        string dborrowed = input.readline();.        system.out.print(\"\"due date: \"\");.        string ddate = input.readline();.        createline(cname, add, pno, ramount,tno, title, dborrowed, ddate);.        rentdata();.    }..    public static void createline(string name, string address, string phone , string rental, string tapenumber, string title, string borrowed, string due) throws exception{.        filewriter fw = new filewriter(file, true);.        fw.write(\"\"nname: \"\"+name + \"\"naddress: \"\" + address +\"\"nphone no.: \"\"+ phone+\"\"nrentalamount: \"\"+rental+\"\"ntape no.: \"\"+ tapenumber+\"\"ntitle: \"\"+ title+\"\"ndate borrowed: \"\"+borrowed +\"\"ndue date: \"\"+ due+\"\":rn\"\");.        fw.close();.    }..    public static void loadfile() throws exception{.        try{.            list.clear();.            fileinputstream fstream = new fileinputstream(file);.            bufferedreader br = new bufferedreader(new inputstreamreader(fstream));.            rows = 0;.            while( br.ready()).            {.                list.add(br.readline());.                rows++;.            }.            br.close();.        } catch(exception e){.            system.out.println(\"\"list not yet loaded.\"\");.        }.    }..    public static void viewlist(){.        system.out.print(\"\"n~ ~ ~ ~ ~ ~ ~ ~ ~ ~ ~\"\");.        system.out.print(\"\" |list of all costumers|\"\");.        system.out.print(\"\"~ ~ ~ ~ ~ ~ ~ ~ ~ ~ ~\"\");.        for(int i = 0; i &lt;rows; i++){.            system.out.println(list.get(i));.        }.    }.        public static void rentdata()throws exception.    {   system.out.print(\"\"n~ ~ ~ ~ ~ ~ ~ ~ ~ ~ ~\"\");.        system.out.print(\"\" |rent data list|\"\");.        system.out.print(\"\"~ ~ ~ ~ ~ ~ ~ ~ ~ ~ ~\"\");.        system.out.print(\"\"nenter customer name: \"\");.        string cname = input.readline();.        system.out.print(\"\"date borrowed: \"\");.        string dborrowed = input.readline();.        system.out.print(\"\"due date: \"\");.        string ddate = input.readline();.        system.out.print(\"\"return date: \"\");.        string rdate = input.readline();.        system.out.print(\"\"rent amount: \"\");.        string ramount = input.readline();..        system.out.print(\"\"you pay:\"\"+ramount);...    }.    public static void search()throws exception.    {   system.out.print(\"\"n~ ~ ~ ~ ~ ~ ~ ~ ~ ~ ~\"\");.        system.out.print(\"\" |search costumers|\"\");.        system.out.print(\"\"~ ~ ~ ~ ~ ~ ~ ~ ~ ~ ~\"\");.        system.out.print(\"\"nenter costumer name: \"\");.        string cname = input.readline();.        boolean found = false;..        for(int i=0; i &lt; rows; i++){.            string temp[] = list.get(i).split(\"\",\"\");..            if(cname.equals(temp[0])){.            system.out.println(\"\"search result:nyou are \"\" + temp[0] + \"\" from \"\" + temp[1] + \"\".\"\"+ temp[2] + \"\".\"\"+ temp[3] + \"\".\"\"+ temp[4] + \"\".\"\"+ temp[5] + \"\" is \"\" + temp[6] + \"\".\"\"+ temp[7] + \"\" is \"\" + temp[8] + \"\".\"\");.                found = true;.            }.        }..        if(!found){.            system.out.print(\"\"no results.\"\");.        }..    }..        public static boolean evaluate(string uname, string pass){.        if (uname.equals(\"\"admin\"\")&amp;&amp;pass.equals(\"\"12345\"\")) return true;.        else return false;.    }..    public static string login()throws exception{.        bufferedreader input=new bufferedreader(new inputstreamreader(system.in));.        int counter=0;.        do{.            system.out.print(\"\"username:\"\");.            string uname =input.readline();.            system.out.print(\"\"password:\"\");.            string pass =input.readline();..            boolean accept= evaluate(uname,pass);..            if(accept){.                break;.                }else{.                    system.out.println(\"\"incorrect username or password!\"\");.                    counter ++;.                    }.        }while(counter&lt;3);..            if(counter !=3) return \"\"login successful\"\";.            else return \"\"login failed\"\";.            }.        public static void introduction() throws exception{..        system.out.println(\"\"                  - - - - - - - - - - - - - - - - - - - - - - - - -\"\");.        system.out.println(\"\"                  !                  r e n t a l                  !\"\");.        system.out.println(\"\"                   ! ~ ~ ~ ~ ~ !  =================  ! ~ ~ ~ ~ ~ !\"\");.        system.out.println(\"\"                  !                  s y s t e m                  !\"\");.        system.out.println(\"\"                  - - - - - - - - - - - - - - - - - - - - - - - - -\"\");.        }..}\"\\n'\n",
            "Label java\n"
          ]
        }
      ]
    },
    {
      "cell_type": "markdown",
      "source": [
        "# Standardize and vectorization of the data"
      ],
      "metadata": {
        "id": "AoIAIUTvAVlF"
      }
    },
    {
      "cell_type": "code",
      "source": [
        "import string\n",
        "import tensorflow as tf\n",
        "\n",
        "from tensorflow.keras import layers\n",
        "from tensorflow.keras import losses"
      ],
      "metadata": {
        "id": "DI-YwOdTBGsj"
      },
      "execution_count": null,
      "outputs": []
    },
    {
      "cell_type": "code",
      "source": [
        "import re\n",
        "def custom_standardization(input_data):\n",
        "  lowercase = tf.strings.lower(input_data)\n",
        "  stripped_html = tf.strings.regex_replace(lowercase, '<br />', ' ')\n",
        "  return tf.strings.regex_replace(stripped_html,\n",
        "                                  '[%s]' % re.escape(string.punctuation),\n",
        "                                  '')"
      ],
      "metadata": {
        "id": "JGHBDFNGyBQW"
      },
      "execution_count": null,
      "outputs": []
    },
    {
      "cell_type": "code",
      "source": [
        "max_features = 10000\n",
        "sequence_length = 250\n",
        "\n",
        "vectorize_layer = layers.TextVectorization(\n",
        "    standardize=custom_standardization,\n",
        "    max_tokens=max_features,\n",
        "    output_mode='int',\n",
        "    output_sequence_length=sequence_length)"
      ],
      "metadata": {
        "id": "x6wJ75NTBA8D"
      },
      "execution_count": null,
      "outputs": []
    },
    {
      "cell_type": "code",
      "source": [
        "# Make a text-only dataset (without labels), then call adapt\n",
        "train_text = raw_train_ds.map(lambda x, y: x)\n",
        "vectorize_layer.adapt(train_text)"
      ],
      "metadata": {
        "id": "8ttHopXtBbsr"
      },
      "execution_count": null,
      "outputs": []
    },
    {
      "cell_type": "code",
      "source": [
        "def vectorize_text(text, label):\n",
        "  text = tf.expand_dims(text, -1)\n",
        "  return vectorize_layer(text), label"
      ],
      "metadata": {
        "id": "0nBcWzRgBiLr"
      },
      "execution_count": null,
      "outputs": []
    },
    {
      "cell_type": "code",
      "source": [
        "# retrieve a batch (of 32 reviews and labels) from the dataset\n",
        "text_batch, label_batch = next(iter(raw_train_ds))\n",
        "first_review, first_label = text_batch[0], label_batch[0]\n",
        "print(\"Review\", first_review)\n",
        "print(\"Label\", raw_train_ds.class_names[first_label])\n",
        "print(\"Vectorized review\", vectorize_text(first_review, first_label))"
      ],
      "metadata": {
        "colab": {
          "base_uri": "https://localhost:8080/"
        },
        "id": "xm_xjWQkBjrr",
        "outputId": "6536d6c6-00a5-4520-a393-143cbb26123a"
      },
      "execution_count": null,
      "outputs": [
        {
          "output_type": "stream",
          "name": "stdout",
          "text": [
            "Review tf.Tensor(b'\"set blank to quit on exception? i\\'m using blank 3..i\\'ve been looking around for an answer to this, but i haven\\'t found it yet. basically, i\\'m running several blank scripts into a game engine, and each script has its own entry point...i\\'d rather not add try: except blocks through all of my code, so i was wondering if it\\'s at all possible to tell blank to quit (or perhaps assign a custom function to that \"\"callback\"\") on finding its first error, regardless of where or what it found? ..currently, the game engine will continue after finding and hitting an error, making it more difficult than necessary to diagnose issues since running into one error may make a subsequent script not work (as it relies on variables that the error-ing script set, for example). any ideas? ..i know that i could redirect the console to a file to allow for easier scrolling, but just capturing the first error and stopping the game prematurely would be really useful...okay, a couple of extra bits of info - sorry for neglecting to say this. the engine i\\'m using (the blender game engine) is coded in c, so changing the source is more than i\\'d like to do.....after googling, it would appear that a similar question with a solid answer has been asked here, which is how to get the last raised exception. if i check the sys module for the presence of the last_value variable and it exists, then i can quit prematurely, as the console would have already printed out the error...thanks for the help.\"\\n', shape=(), dtype=string)\n",
            "Label python\n",
            "Vectorized review (<tf.Tensor: shape=(1, 256), dtype=int64, numpy=\n",
            "array([[ 107,   16,    4, 1139,   37,  184,   52,   47,   16,    1,  215,\n",
            "         417,  518,   12,   32,  182,    4,   13,   26,    3, 1416,  227,\n",
            "          11,  894,  627,   52,  309,  718,   16, 1274,  100,    5,  244,\n",
            "        1826,    8,  119,  224,   95,   97,  657,  858,    1,  797,   20,\n",
            "         125,  117,  559, 2282,  194,   73,    9,   23,   30,   50,    3,\n",
            "         115,  566,   10,   97,   59,   73,  204,    4,  412,   16,    4,\n",
            "        1139,   45, 1670,  601,    5,  694,   38,    4,   14,  851,   37,\n",
            "         967,   97,   98,   65, 2374,    9,  132,   45,   55,   11,  227,\n",
            "         401,    2,  244, 1826,   72,  534,  156,  967,    8, 7808,   32,\n",
            "          65,  468,   11,  181, 2332,  198, 1461,    4,    1, 1093,  447,\n",
            "         309,  100,   71,   65,  454,  109,    5, 3560,  224,   20,  139,\n",
            "          36,   11, 9052,   37,  233,   14,    2,    1,  224,  107,   12,\n",
            "         137,   76,  779,    3,  102,   14,    3,  176, 1853,    2,  332,\n",
            "           4,    5,   39,    4,  787,   12, 1320, 3579,   26,  106,    1,\n",
            "           2,   98,   65,    8, 2902,    2,  244,    1,   69,   33,  336,\n",
            "           1,    5, 1759,    9, 1157, 2531,    9,  568,  729,   12,    1,\n",
            "           4,  321,   13,    2, 1826,   52,   47,    2,    1,  244, 1826,\n",
            "           6, 2619,    7,  131,   50,  801,    2,  313,    6,  181,  198,\n",
            "         142,   48,    4,    1, 3965,   11,   69,  882,   14,    5,  520,\n",
            "         159,   21,    5, 1706,  182,   95,  215,  912,  101,   66,    6,\n",
            "          24,    4,   41,    2,  218, 2918,  184,   10,    3,  186,    2,\n",
            "        1358,  380,   12,    2, 9151,    9,    2,    1,  116,    8,   11,\n",
            "         758,   87,    3,   35, 1139,    1,   36,    2,  332,   69,   17,\n",
            "         334,  986,   94]])>, <tf.Tensor: shape=(), dtype=int32, numpy=3>)\n"
          ]
        }
      ]
    },
    {
      "cell_type": "code",
      "source": [
        "train_ds = raw_train_ds.map(vectorize_text)\n",
        "val_ds = raw_val_ds.map(vectorize_text)\n",
        "test_ds = raw_test_ds.map(vectorize_text)"
      ],
      "metadata": {
        "id": "iHvA7iMuBwLT"
      },
      "execution_count": null,
      "outputs": []
    },
    {
      "cell_type": "code",
      "source": [
        "AUTOTUNE = tf.data.AUTOTUNE\n",
        "\n",
        "train_ds = train_ds.cache().prefetch(buffer_size=AUTOTUNE)\n",
        "val_ds = val_ds.cache().prefetch(buffer_size=AUTOTUNE)\n",
        "test_ds = test_ds.cache().prefetch(buffer_size=AUTOTUNE)"
      ],
      "metadata": {
        "id": "dxMCzJzIB4Wz"
      },
      "execution_count": null,
      "outputs": []
    },
    {
      "cell_type": "code",
      "source": [
        "embedding_dim = 256\n",
        "model = tf.keras.Sequential([\n",
        "  layers.Embedding(max_features, embedding_dim),\n",
        "  layers.Dropout(0.2),\n",
        "  layers.GlobalAveragePooling1D(),\n",
        "  layers.Dropout(0.2),\n",
        "  layers.Dense(4, activation='sigmoid')])\n",
        "\n",
        "model.summary()"
      ],
      "metadata": {
        "colab": {
          "base_uri": "https://localhost:8080/"
        },
        "id": "5NcGVeX9B5Tr",
        "outputId": "d16c5d70-def6-46c4-f06e-5088f8859eed"
      },
      "execution_count": null,
      "outputs": [
        {
          "output_type": "stream",
          "name": "stdout",
          "text": [
            "Model: \"sequential\"\n",
            "_________________________________________________________________\n",
            " Layer (type)                Output Shape              Param #   \n",
            "=================================================================\n",
            " embedding (Embedding)       (None, None, 256)         2560000   \n",
            "                                                                 \n",
            " dropout (Dropout)           (None, None, 256)         0         \n",
            "                                                                 \n",
            " global_average_pooling1d (  (None, 256)               0         \n",
            " GlobalAveragePooling1D)                                         \n",
            "                                                                 \n",
            " dropout_1 (Dropout)         (None, 256)               0         \n",
            "                                                                 \n",
            " dense (Dense)               (None, 4)                 1028      \n",
            "                                                                 \n",
            "=================================================================\n",
            "Total params: 2561028 (9.77 MB)\n",
            "Trainable params: 2561028 (9.77 MB)\n",
            "Non-trainable params: 0 (0.00 Byte)\n",
            "_________________________________________________________________\n"
          ]
        }
      ]
    },
    {
      "cell_type": "code",
      "source": [
        "model.compile(loss=tf.keras.losses.SparseCategoricalCrossentropy(from_logits=True),\n",
        "              optimizer='adam',\n",
        "              metrics=['accuracy'])"
      ],
      "metadata": {
        "id": "CS2BzT74CPJc"
      },
      "execution_count": null,
      "outputs": []
    },
    {
      "cell_type": "code",
      "source": [
        "epochs = 100\n",
        "history = model.fit(\n",
        "    train_ds,\n",
        "    validation_data=val_ds,\n",
        "    epochs=epochs)"
      ],
      "metadata": {
        "colab": {
          "base_uri": "https://localhost:8080/"
        },
        "id": "_tawQT3UC1uB",
        "outputId": "408c5a51-9e4e-4c02-a167-fa895f6005c7"
      },
      "execution_count": null,
      "outputs": [
        {
          "output_type": "stream",
          "name": "stdout",
          "text": [
            "Epoch 1/100\n"
          ]
        },
        {
          "output_type": "stream",
          "name": "stderr",
          "text": [
            "/usr/local/lib/python3.10/dist-packages/keras/src/backend.py:5727: UserWarning: \"`sparse_categorical_crossentropy` received `from_logits=True`, but the `output` argument was produced by a Softmax activation and thus does not represent logits. Was this intended?\n",
            "  output, from_logits = _get_logits(\n"
          ]
        },
        {
          "output_type": "stream",
          "name": "stdout",
          "text": [
            "200/200 [==============================] - 20s 86ms/step - loss: 1.3470 - accuracy: 0.4050 - val_loss: 1.2784 - val_accuracy: 0.5819\n",
            "Epoch 2/100\n",
            "200/200 [==============================] - 1s 6ms/step - loss: 1.1619 - accuracy: 0.5989 - val_loss: 1.0376 - val_accuracy: 0.6969\n",
            "Epoch 3/100\n",
            "200/200 [==============================] - 1s 7ms/step - loss: 0.9277 - accuracy: 0.7142 - val_loss: 0.8471 - val_accuracy: 0.7513\n",
            "Epoch 4/100\n",
            "200/200 [==============================] - 1s 5ms/step - loss: 0.7582 - accuracy: 0.7650 - val_loss: 0.7280 - val_accuracy: 0.7781\n",
            "Epoch 5/100\n",
            "200/200 [==============================] - 1s 5ms/step - loss: 0.6430 - accuracy: 0.8055 - val_loss: 0.6517 - val_accuracy: 0.7869\n",
            "Epoch 6/100\n",
            "200/200 [==============================] - 1s 5ms/step - loss: 0.5597 - accuracy: 0.8366 - val_loss: 0.6002 - val_accuracy: 0.7944\n",
            "Epoch 7/100\n",
            "200/200 [==============================] - 1s 5ms/step - loss: 0.4938 - accuracy: 0.8578 - val_loss: 0.5632 - val_accuracy: 0.8056\n",
            "Epoch 8/100\n",
            "200/200 [==============================] - 1s 5ms/step - loss: 0.4397 - accuracy: 0.8769 - val_loss: 0.5367 - val_accuracy: 0.8138\n",
            "Epoch 9/100\n",
            "200/200 [==============================] - 1s 5ms/step - loss: 0.3968 - accuracy: 0.8900 - val_loss: 0.5168 - val_accuracy: 0.8181\n",
            "Epoch 10/100\n",
            "200/200 [==============================] - 1s 5ms/step - loss: 0.3580 - accuracy: 0.9022 - val_loss: 0.5024 - val_accuracy: 0.8256\n",
            "Epoch 11/100\n",
            "200/200 [==============================] - 1s 5ms/step - loss: 0.3248 - accuracy: 0.9136 - val_loss: 0.4934 - val_accuracy: 0.8238\n",
            "Epoch 12/100\n",
            "200/200 [==============================] - 1s 5ms/step - loss: 0.2950 - accuracy: 0.9239 - val_loss: 0.4859 - val_accuracy: 0.8231\n",
            "Epoch 13/100\n",
            "200/200 [==============================] - 1s 6ms/step - loss: 0.2704 - accuracy: 0.9311 - val_loss: 0.4814 - val_accuracy: 0.8250\n",
            "Epoch 14/100\n",
            "200/200 [==============================] - 1s 7ms/step - loss: 0.2481 - accuracy: 0.9386 - val_loss: 0.4788 - val_accuracy: 0.8244\n",
            "Epoch 15/100\n",
            "200/200 [==============================] - 1s 5ms/step - loss: 0.2274 - accuracy: 0.9430 - val_loss: 0.4796 - val_accuracy: 0.8244\n",
            "Epoch 16/100\n",
            "200/200 [==============================] - 1s 5ms/step - loss: 0.2085 - accuracy: 0.9491 - val_loss: 0.4798 - val_accuracy: 0.8238\n",
            "Epoch 17/100\n",
            "200/200 [==============================] - 1s 5ms/step - loss: 0.1914 - accuracy: 0.9559 - val_loss: 0.4835 - val_accuracy: 0.8188\n",
            "Epoch 18/100\n",
            "200/200 [==============================] - 1s 5ms/step - loss: 0.1762 - accuracy: 0.9592 - val_loss: 0.4867 - val_accuracy: 0.8200\n",
            "Epoch 19/100\n",
            "200/200 [==============================] - 1s 5ms/step - loss: 0.1622 - accuracy: 0.9633 - val_loss: 0.4912 - val_accuracy: 0.8181\n",
            "Epoch 20/100\n",
            "200/200 [==============================] - 1s 5ms/step - loss: 0.1487 - accuracy: 0.9683 - val_loss: 0.4992 - val_accuracy: 0.8150\n",
            "Epoch 21/100\n",
            "200/200 [==============================] - 1s 5ms/step - loss: 0.1370 - accuracy: 0.9722 - val_loss: 0.5059 - val_accuracy: 0.8175\n",
            "Epoch 22/100\n",
            "200/200 [==============================] - 1s 5ms/step - loss: 0.1258 - accuracy: 0.9758 - val_loss: 0.5145 - val_accuracy: 0.8163\n",
            "Epoch 23/100\n",
            "200/200 [==============================] - 1s 5ms/step - loss: 0.1162 - accuracy: 0.9777 - val_loss: 0.5249 - val_accuracy: 0.8150\n",
            "Epoch 24/100\n",
            "200/200 [==============================] - 1s 5ms/step - loss: 0.1075 - accuracy: 0.9806 - val_loss: 0.5327 - val_accuracy: 0.8169\n",
            "Epoch 25/100\n",
            "200/200 [==============================] - 1s 6ms/step - loss: 0.0986 - accuracy: 0.9823 - val_loss: 0.5434 - val_accuracy: 0.8156\n",
            "Epoch 26/100\n",
            "200/200 [==============================] - 2s 8ms/step - loss: 0.0907 - accuracy: 0.9834 - val_loss: 0.5534 - val_accuracy: 0.8138\n",
            "Epoch 27/100\n",
            "200/200 [==============================] - 1s 5ms/step - loss: 0.0830 - accuracy: 0.9873 - val_loss: 0.5656 - val_accuracy: 0.8131\n",
            "Epoch 28/100\n",
            "200/200 [==============================] - 1s 5ms/step - loss: 0.0770 - accuracy: 0.9878 - val_loss: 0.5793 - val_accuracy: 0.8144\n",
            "Epoch 29/100\n",
            "200/200 [==============================] - 1s 5ms/step - loss: 0.0706 - accuracy: 0.9903 - val_loss: 0.5881 - val_accuracy: 0.8175\n",
            "Epoch 30/100\n",
            "200/200 [==============================] - 1s 5ms/step - loss: 0.0644 - accuracy: 0.9917 - val_loss: 0.6025 - val_accuracy: 0.8163\n",
            "Epoch 31/100\n",
            "200/200 [==============================] - 1s 5ms/step - loss: 0.0598 - accuracy: 0.9919 - val_loss: 0.6171 - val_accuracy: 0.8188\n",
            "Epoch 32/100\n",
            "200/200 [==============================] - 1s 5ms/step - loss: 0.0546 - accuracy: 0.9927 - val_loss: 0.6330 - val_accuracy: 0.8144\n",
            "Epoch 33/100\n",
            "200/200 [==============================] - 1s 5ms/step - loss: 0.0496 - accuracy: 0.9944 - val_loss: 0.6475 - val_accuracy: 0.8125\n",
            "Epoch 34/100\n",
            "200/200 [==============================] - 1s 5ms/step - loss: 0.0464 - accuracy: 0.9947 - val_loss: 0.6602 - val_accuracy: 0.8112\n",
            "Epoch 35/100\n",
            "200/200 [==============================] - 1s 5ms/step - loss: 0.0419 - accuracy: 0.9950 - val_loss: 0.6729 - val_accuracy: 0.8100\n",
            "Epoch 36/100\n",
            "200/200 [==============================] - 1s 6ms/step - loss: 0.0387 - accuracy: 0.9961 - val_loss: 0.6897 - val_accuracy: 0.8075\n",
            "Epoch 37/100\n",
            "200/200 [==============================] - 1s 7ms/step - loss: 0.0355 - accuracy: 0.9958 - val_loss: 0.7000 - val_accuracy: 0.8069\n",
            "Epoch 38/100\n",
            "200/200 [==============================] - 1s 5ms/step - loss: 0.0318 - accuracy: 0.9972 - val_loss: 0.7184 - val_accuracy: 0.8081\n",
            "Epoch 39/100\n",
            "200/200 [==============================] - 1s 5ms/step - loss: 0.0299 - accuracy: 0.9972 - val_loss: 0.7334 - val_accuracy: 0.8062\n",
            "Epoch 40/100\n",
            "200/200 [==============================] - 1s 5ms/step - loss: 0.0271 - accuracy: 0.9980 - val_loss: 0.7495 - val_accuracy: 0.8056\n",
            "Epoch 41/100\n",
            "200/200 [==============================] - 1s 5ms/step - loss: 0.0250 - accuracy: 0.9978 - val_loss: 0.7610 - val_accuracy: 0.8025\n",
            "Epoch 42/100\n",
            "200/200 [==============================] - 1s 5ms/step - loss: 0.0225 - accuracy: 0.9983 - val_loss: 0.7789 - val_accuracy: 0.8006\n",
            "Epoch 43/100\n",
            "200/200 [==============================] - 1s 5ms/step - loss: 0.0210 - accuracy: 0.9984 - val_loss: 0.7927 - val_accuracy: 0.8006\n",
            "Epoch 44/100\n",
            "200/200 [==============================] - 1s 5ms/step - loss: 0.0188 - accuracy: 0.9984 - val_loss: 0.8140 - val_accuracy: 0.8012\n",
            "Epoch 45/100\n",
            "200/200 [==============================] - 1s 5ms/step - loss: 0.0172 - accuracy: 0.9986 - val_loss: 0.8248 - val_accuracy: 0.8019\n",
            "Epoch 46/100\n",
            "200/200 [==============================] - 1s 6ms/step - loss: 0.0159 - accuracy: 0.9986 - val_loss: 0.8445 - val_accuracy: 0.7994\n",
            "Epoch 47/100\n",
            "200/200 [==============================] - 1s 7ms/step - loss: 0.0144 - accuracy: 0.9991 - val_loss: 0.8550 - val_accuracy: 0.7981\n",
            "Epoch 48/100\n",
            "200/200 [==============================] - 1s 6ms/step - loss: 0.0131 - accuracy: 0.9991 - val_loss: 0.8758 - val_accuracy: 0.7987\n",
            "Epoch 49/100\n",
            "200/200 [==============================] - 1s 5ms/step - loss: 0.0120 - accuracy: 0.9994 - val_loss: 0.8997 - val_accuracy: 0.7969\n",
            "Epoch 50/100\n",
            "200/200 [==============================] - 1s 5ms/step - loss: 0.0111 - accuracy: 0.9992 - val_loss: 0.9104 - val_accuracy: 0.7956\n",
            "Epoch 51/100\n",
            "200/200 [==============================] - 1s 5ms/step - loss: 0.0100 - accuracy: 0.9994 - val_loss: 0.9247 - val_accuracy: 0.7975\n",
            "Epoch 52/100\n",
            "200/200 [==============================] - 1s 5ms/step - loss: 0.0092 - accuracy: 0.9997 - val_loss: 0.9450 - val_accuracy: 0.7962\n",
            "Epoch 53/100\n",
            "200/200 [==============================] - 1s 5ms/step - loss: 0.0083 - accuracy: 0.9995 - val_loss: 0.9579 - val_accuracy: 0.7950\n",
            "Epoch 54/100\n",
            "200/200 [==============================] - 1s 5ms/step - loss: 0.0075 - accuracy: 0.9997 - val_loss: 0.9800 - val_accuracy: 0.7969\n",
            "Epoch 55/100\n",
            "200/200 [==============================] - 1s 5ms/step - loss: 0.0070 - accuracy: 0.9998 - val_loss: 0.9866 - val_accuracy: 0.7962\n",
            "Epoch 56/100\n",
            "200/200 [==============================] - 1s 5ms/step - loss: 0.0062 - accuracy: 0.9998 - val_loss: 1.0099 - val_accuracy: 0.7962\n",
            "Epoch 57/100\n",
            "200/200 [==============================] - 2s 8ms/step - loss: 0.0056 - accuracy: 0.9998 - val_loss: 1.0215 - val_accuracy: 0.7956\n",
            "Epoch 58/100\n",
            "200/200 [==============================] - 3s 15ms/step - loss: 0.0052 - accuracy: 1.0000 - val_loss: 1.0363 - val_accuracy: 0.7944\n",
            "Epoch 59/100\n",
            "200/200 [==============================] - 2s 8ms/step - loss: 0.0048 - accuracy: 0.9998 - val_loss: 1.0537 - val_accuracy: 0.7969\n",
            "Epoch 60/100\n",
            "200/200 [==============================] - 1s 5ms/step - loss: 0.0043 - accuracy: 1.0000 - val_loss: 1.0680 - val_accuracy: 0.7962\n",
            "Epoch 61/100\n",
            "200/200 [==============================] - 1s 5ms/step - loss: 0.0040 - accuracy: 1.0000 - val_loss: 1.0871 - val_accuracy: 0.7969\n",
            "Epoch 62/100\n",
            "200/200 [==============================] - 1s 5ms/step - loss: 0.0035 - accuracy: 1.0000 - val_loss: 1.1055 - val_accuracy: 0.7969\n",
            "Epoch 63/100\n",
            "200/200 [==============================] - 1s 5ms/step - loss: 0.0032 - accuracy: 1.0000 - val_loss: 1.1240 - val_accuracy: 0.7969\n",
            "Epoch 64/100\n",
            "200/200 [==============================] - 1s 5ms/step - loss: 0.0029 - accuracy: 1.0000 - val_loss: 1.1392 - val_accuracy: 0.7962\n",
            "Epoch 65/100\n",
            "200/200 [==============================] - 1s 5ms/step - loss: 0.0026 - accuracy: 1.0000 - val_loss: 1.1683 - val_accuracy: 0.7944\n",
            "Epoch 66/100\n",
            "200/200 [==============================] - 1s 5ms/step - loss: 0.0024 - accuracy: 1.0000 - val_loss: 1.1894 - val_accuracy: 0.7931\n",
            "Epoch 67/100\n",
            "200/200 [==============================] - 1s 5ms/step - loss: 0.0022 - accuracy: 1.0000 - val_loss: 1.1995 - val_accuracy: 0.7937\n",
            "Epoch 68/100\n",
            "200/200 [==============================] - 1s 5ms/step - loss: 0.0020 - accuracy: 1.0000 - val_loss: 1.2245 - val_accuracy: 0.7919\n",
            "Epoch 69/100\n",
            "200/200 [==============================] - 1s 6ms/step - loss: 0.0018 - accuracy: 1.0000 - val_loss: 1.2446 - val_accuracy: 0.7919\n",
            "Epoch 70/100\n",
            "200/200 [==============================] - 1s 7ms/step - loss: 0.0017 - accuracy: 1.0000 - val_loss: 1.2606 - val_accuracy: 0.7925\n",
            "Epoch 71/100\n",
            "200/200 [==============================] - 1s 5ms/step - loss: 0.0015 - accuracy: 1.0000 - val_loss: 1.2692 - val_accuracy: 0.7919\n",
            "Epoch 72/100\n",
            "200/200 [==============================] - 1s 5ms/step - loss: 0.0014 - accuracy: 1.0000 - val_loss: 1.3026 - val_accuracy: 0.7912\n",
            "Epoch 73/100\n",
            "200/200 [==============================] - 1s 5ms/step - loss: 0.0012 - accuracy: 1.0000 - val_loss: 1.3218 - val_accuracy: 0.7906\n",
            "Epoch 74/100\n",
            "200/200 [==============================] - 1s 5ms/step - loss: 0.0012 - accuracy: 1.0000 - val_loss: 1.3362 - val_accuracy: 0.7887\n",
            "Epoch 75/100\n",
            "200/200 [==============================] - 1s 5ms/step - loss: 0.0011 - accuracy: 1.0000 - val_loss: 1.3516 - val_accuracy: 0.7906\n",
            "Epoch 76/100\n",
            "200/200 [==============================] - 1s 5ms/step - loss: 9.7629e-04 - accuracy: 1.0000 - val_loss: 1.3729 - val_accuracy: 0.7906\n",
            "Epoch 77/100\n",
            "200/200 [==============================] - 1s 5ms/step - loss: 8.9174e-04 - accuracy: 1.0000 - val_loss: 1.3886 - val_accuracy: 0.7894\n",
            "Epoch 78/100\n",
            "200/200 [==============================] - 1s 5ms/step - loss: 8.3760e-04 - accuracy: 1.0000 - val_loss: 1.4169 - val_accuracy: 0.7894\n",
            "Epoch 79/100\n",
            "200/200 [==============================] - 1s 5ms/step - loss: 7.0839e-04 - accuracy: 1.0000 - val_loss: 1.4355 - val_accuracy: 0.7887\n",
            "Epoch 80/100\n",
            "200/200 [==============================] - 1s 6ms/step - loss: 6.5243e-04 - accuracy: 1.0000 - val_loss: 1.4528 - val_accuracy: 0.7881\n",
            "Epoch 81/100\n",
            "200/200 [==============================] - 1s 5ms/step - loss: 6.0763e-04 - accuracy: 1.0000 - val_loss: 1.4864 - val_accuracy: 0.7875\n",
            "Epoch 82/100\n",
            "200/200 [==============================] - 1s 5ms/step - loss: 5.4876e-04 - accuracy: 1.0000 - val_loss: 1.5020 - val_accuracy: 0.7856\n",
            "Epoch 83/100\n",
            "200/200 [==============================] - 1s 5ms/step - loss: 5.0232e-04 - accuracy: 1.0000 - val_loss: 1.5104 - val_accuracy: 0.7894\n",
            "Epoch 84/100\n",
            "200/200 [==============================] - 1s 5ms/step - loss: 5.1478e-04 - accuracy: 1.0000 - val_loss: 1.5358 - val_accuracy: 0.7887\n",
            "Epoch 85/100\n",
            "200/200 [==============================] - 1s 5ms/step - loss: 4.3529e-04 - accuracy: 1.0000 - val_loss: 1.5622 - val_accuracy: 0.7869\n",
            "Epoch 86/100\n",
            "200/200 [==============================] - 1s 5ms/step - loss: 3.8629e-04 - accuracy: 1.0000 - val_loss: 1.5728 - val_accuracy: 0.7862\n",
            "Epoch 87/100\n",
            "200/200 [==============================] - 1s 5ms/step - loss: 3.8207e-04 - accuracy: 1.0000 - val_loss: 1.5970 - val_accuracy: 0.7869\n",
            "Epoch 88/100\n",
            "200/200 [==============================] - 1s 5ms/step - loss: 3.4015e-04 - accuracy: 1.0000 - val_loss: 1.6186 - val_accuracy: 0.7850\n",
            "Epoch 89/100\n",
            "200/200 [==============================] - 1s 5ms/step - loss: 2.8922e-04 - accuracy: 1.0000 - val_loss: 1.6288 - val_accuracy: 0.7844\n",
            "Epoch 90/100\n",
            "200/200 [==============================] - 1s 7ms/step - loss: 2.7334e-04 - accuracy: 1.0000 - val_loss: 1.6377 - val_accuracy: 0.7862\n",
            "Epoch 91/100\n",
            "200/200 [==============================] - 1s 5ms/step - loss: 2.6021e-04 - accuracy: 1.0000 - val_loss: 1.6668 - val_accuracy: 0.7887\n",
            "Epoch 92/100\n",
            "200/200 [==============================] - 1s 5ms/step - loss: 2.4406e-04 - accuracy: 1.0000 - val_loss: 1.6960 - val_accuracy: 0.7869\n",
            "Epoch 93/100\n",
            "200/200 [==============================] - 1s 6ms/step - loss: 2.2716e-04 - accuracy: 1.0000 - val_loss: 1.7154 - val_accuracy: 0.7837\n",
            "Epoch 94/100\n",
            "200/200 [==============================] - 1s 7ms/step - loss: 1.9664e-04 - accuracy: 1.0000 - val_loss: 1.7429 - val_accuracy: 0.7862\n",
            "Epoch 95/100\n",
            "200/200 [==============================] - 1s 5ms/step - loss: 1.8229e-04 - accuracy: 1.0000 - val_loss: 1.7524 - val_accuracy: 0.7856\n",
            "Epoch 96/100\n",
            "200/200 [==============================] - 1s 5ms/step - loss: 1.6442e-04 - accuracy: 1.0000 - val_loss: 1.7647 - val_accuracy: 0.7837\n",
            "Epoch 97/100\n",
            "200/200 [==============================] - 1s 5ms/step - loss: 1.5524e-04 - accuracy: 1.0000 - val_loss: 1.7783 - val_accuracy: 0.7844\n",
            "Epoch 98/100\n",
            "200/200 [==============================] - 1s 6ms/step - loss: 1.5707e-04 - accuracy: 1.0000 - val_loss: 1.8012 - val_accuracy: 0.7862\n",
            "Epoch 99/100\n",
            "200/200 [==============================] - 1s 5ms/step - loss: 1.7604e-04 - accuracy: 1.0000 - val_loss: 1.8563 - val_accuracy: 0.7825\n",
            "Epoch 100/100\n",
            "200/200 [==============================] - 1s 5ms/step - loss: 1.2588e-04 - accuracy: 1.0000 - val_loss: 1.8472 - val_accuracy: 0.7844\n"
          ]
        }
      ]
    },
    {
      "cell_type": "code",
      "source": [
        "loss, accuracy = model.evaluate(test_ds)\n",
        "\n",
        "print(\"Loss: \", loss)\n",
        "print(\"Accuracy: \", accuracy)"
      ],
      "metadata": {
        "colab": {
          "base_uri": "https://localhost:8080/"
        },
        "id": "-mOb-VHIE7V4",
        "outputId": "79552db9-a8d3-4f53-9288-60398acf47b2"
      },
      "execution_count": null,
      "outputs": [
        {
          "output_type": "stream",
          "name": "stdout",
          "text": [
            "250/250 [==============================] - 1s 5ms/step - loss: 2.1720 - accuracy: 0.7570\n",
            "Loss:  2.171999931335449\n",
            "Accuracy:  0.7570000290870667\n"
          ]
        }
      ]
    },
    {
      "cell_type": "code",
      "source": [
        "history_dict = history.history\n",
        "history_dict.keys()"
      ],
      "metadata": {
        "colab": {
          "base_uri": "https://localhost:8080/"
        },
        "id": "WPY7PM6sFHfw",
        "outputId": "fc434099-6f14-47f4-84b2-3109af2b037a"
      },
      "execution_count": null,
      "outputs": [
        {
          "output_type": "execute_result",
          "data": {
            "text/plain": [
              "dict_keys(['loss', 'accuracy', 'val_loss', 'val_accuracy'])"
            ]
          },
          "metadata": {},
          "execution_count": 19
        }
      ]
    },
    {
      "cell_type": "code",
      "source": [
        "acc = history_dict['accuracy']\n",
        "val_acc = history_dict['val_accuracy']\n",
        "loss = history_dict['loss']\n",
        "val_loss = history_dict['val_loss']\n",
        "\n",
        "epochs = range(1, len(acc) + 1)\n",
        "import matplotlib.pyplot as plt\n",
        "# \"bo\" is for \"blue dot\"\n",
        "plt.plot(epochs, loss, 'bo', label='Training loss')\n",
        "# b is for \"solid blue line\"\n",
        "plt.plot(epochs, val_loss, 'b', label='Validation loss')\n",
        "plt.title('Training and validation loss')\n",
        "plt.xlabel('Epochs')\n",
        "plt.ylabel('Loss')\n",
        "plt.legend()\n",
        "\n",
        "plt.show()"
      ],
      "metadata": {
        "colab": {
          "base_uri": "https://localhost:8080/",
          "height": 472
        },
        "id": "1jYG8Ox2FIpv",
        "outputId": "aa6e666a-a08f-4f4f-99a6-e0c5fd8ecbd6"
      },
      "execution_count": null,
      "outputs": [
        {
          "output_type": "display_data",
          "data": {
            "text/plain": [
              "<Figure size 640x480 with 1 Axes>"
            ],
            "image/png": "[encoded data removed]"
          },
          "metadata": {}
        }
      ]
    },
    {
      "cell_type": "code",
      "source": [
        "plt.plot(epochs, acc, 'bo', label='Training acc')\n",
        "plt.plot(epochs, val_acc, 'b', label='Validation acc')\n",
        "plt.title('Training and validation accuracy')\n",
        "plt.xlabel('Epochs')\n",
        "plt.ylabel('Accuracy')\n",
        "plt.legend(loc='lower right')\n",
        "\n",
        "plt.show()"
      ],
      "metadata": {
        "colab": {
          "base_uri": "https://localhost:8080/",
          "height": 472
        },
        "id": "Owv9OT-SFcg_",
        "outputId": "6f27b66a-0121-46b2-edf6-034aa0305677"
      },
      "execution_count": null,
      "outputs": [
        {
          "output_type": "display_data",
          "data": {
            "text/plain": [
              "<Figure size 640x480 with 1 Axes>"
            ],
            "image/png": "[encoded data removed]"
          },
          "metadata": {}
        }
      ]
    }
  ]
}